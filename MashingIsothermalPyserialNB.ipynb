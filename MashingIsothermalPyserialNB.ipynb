{
 "cells": [
  {
   "cell_type": "code",
   "execution_count": 2,
   "id": "8e5a3555",
   "metadata": {},
   "outputs": [
    {
     "name": "stdin",
     "output_type": "stream",
     "text": [
      "Ingresa un comando ('SET_STEPS 35-10,50-20,60-30' o 'stop'):  SET_STEPS 35-10,50-20,60-10\n"
     ]
    },
    {
     "name": "stdout",
     "output_type": "stream",
     "text": [
      "Respuesta de Arduino: \n"
     ]
    },
    {
     "name": "stdin",
     "output_type": "stream",
     "text": [
      "Ingresa un comando ('SET_STEPS 35-10,50-20,60-30' o 'stop'):  SEND_DATA\n"
     ]
    },
    {
     "name": "stdout",
     "output_type": "stream",
     "text": [
      "Iniciando transmisión de datos...\n",
      ">> 27,26.07,0.00,0.00,0.00,16.77\n",
      ">> 28,26.07,0.00,0.00,0.00,16.90\n",
      ">> 29,26.07,0.00,0.00,0.00,17.04\n",
      ">> 30,26.11,0.00,0.00,0.00,16.68\n",
      ">> 32,26.07,0.00,0.00,0.00,17.33\n"
     ]
    },
    {
     "name": "stdin",
     "output_type": "stream",
     "text": [
      "Ingresa un comando ('SET_STEPS 35-10,50-20,60-30' o 'stop'):  SET_STEPS 35-10,50-20,60-30\n"
     ]
    },
    {
     "name": "stdout",
     "output_type": "stream",
     "text": [
      "Respuesta de Arduino: \n",
      ">> 33,26.07,0.00,0.00,0.00,17.34\n",
      ">> 34,26.07,0.00,0.00,0.00,16.95\n",
      ">> 35,26.11,0.00,0.00,0.00,16.84\n",
      ">> 36,26.04,0.00,0.00,0.00,16.74\n",
      ">> 37,26.11,0.00,0.00,0.00,16.74\n",
      ">> 39,26.07,0.00,0.00,0.00,16.82\n",
      ">> 40,26.11,0.00,0.00,0.00,16.75\n",
      ">> 41,26.04,0.00,0.00,0.00,16.84\n",
      ">> 42,26.07,0.00,0.00,0.00,16.78\n",
      ">> 43,26.04,0.00,0.00,0.00,17.15\n",
      ">> 44,26.11,0.00,0.00,0.00,16.93\n",
      ">> 46,26.07,0.00,0.00,0.00,16.98\n",
      ">> 47,26.11,0.00,0.00,0.00,17.06\n",
      ">> 48,26.04,0.00,0.00,0.00,17.45\n",
      ">> 49,26.11,0.00,0.00,0.00,17.15\n",
      ">> 50,26.07,0.00,0.00,0.00,16.75\n",
      ">> 52,26.07,0.00,0.00,0.00,16.77\n",
      ">> 53,26.11,0.00,0.00,0.00,16.83\n",
      ">> 54,26.07,0.00,0.00,0.00,16.77\n",
      ">> 55,26.07,0.00,0.00,0.00,16.84\n",
      ">> 56,26.11,0.00,0.00,0.00,17.60\n",
      ">> 57,26.11,0.00,0.00,0.00,16.74\n",
      ">> 59,26.11,0.00,0.00,0.00,16.75\n",
      ">> 60,26.11,0.00,0.00,0.00,16.88\n",
      ">> 61,26.11,0.00,0.00,0.00,16.98\n",
      ">> 62,26.11,0.00,0.00,0.00,16.86\n",
      ">> 63,26.07,0.00,0.00,0.00,17.18\n",
      ">> 65,26.11,0.00,0.00,0.00,17.42\n",
      ">> 66,26.11,0.00,0.00,0.00,16.98\n",
      ">> 67,26.07,0.00,0.00,0.00,16.81\n",
      ">> 68,26.07,0.00,0.00,0.00,16.88\n",
      ">> 69,26.11,0.00,0.00,0.00,16.86\n",
      ">> 70,26.07,0.00,0.00,0.00,17.12\n",
      ">> 72,26.07,0.00,0.00,0.00,16.72\n",
      ">> 73,26.11,0.00,0.00,0.00,16.83\n",
      ">> 74,26.11,0.00,0.00,0.00,16.77\n",
      ">> 75,26.07,0.00,0.00,0.00,16.82\n",
      ">> 76,26.04,0.00,0.00,0.00,16.84\n",
      ">> 78,26.11,0.00,0.00,0.00,16.91\n",
      ">> 79,26.14,0.00,0.00,0.00,18.03\n",
      ">> 80,26.11,0.00,0.00,0.00,17.43\n",
      ">> 81,26.11,0.00,0.00,0.00,18.34\n",
      ">> 82,26.07,0.00,0.00,0.00,17.66\n",
      ">> 83,26.11,0.00,0.00,0.00,17.53\n",
      ">> 85,26.04,0.00,0.00,0.00,17.73\n",
      ">> 86,26.07,0.00,0.00,0.00,17.16\n"
     ]
    },
    {
     "name": "stdin",
     "output_type": "stream",
     "text": [
      "Ingresa un comando ('SET_STEPS 35-10,50-20,60-30' o 'stop'):  stop\n"
     ]
    },
    {
     "name": "stdout",
     "output_type": "stream",
     "text": [
      ">> 87,26.14,0.00,0.00,0.00,17.02\n"
     ]
    }
   ],
   "source": [
    "import serial\n",
    "import time\n",
    "import threading\n",
    "from datetime import datetime\n",
    "\n",
    "# Configuración del puerto serial\n",
    "arduino_port = 'COM5'  # Cambia esto si usas otro puerto\n",
    "baud_rate = 9600\n",
    "ser = serial.Serial(arduino_port, baud_rate, timeout=1)\n",
    "time.sleep(2)  # Esperar que el Arduino se reinicie\n",
    "\n",
    "# Variable de control\n",
    "running = True\n",
    "\n",
    "# Función para enviar comandos al Arduino\n",
    "def send_command(command):\n",
    "    ser.write(f\"{command}\\n\".encode())\n",
    "    time.sleep(0.5)\n",
    "    response = ser.read(ser.in_waiting).decode('utf-8')\n",
    "    return response\n",
    "\n",
    "# Hilo para lectura de entrada del usuario\n",
    "def user_input_thread():\n",
    "    global running\n",
    "    while running:\n",
    "        user_input = input(\"Ingresa un comando ('SET_STEPS 35-10,50-20,60-30' o 'stop'): \").strip()\n",
    "        if user_input.lower() == \"stop\":\n",
    "            running = False\n",
    "        elif user_input.startswith(\"SET_STEPS\"):\n",
    "            # Validación básica del formato\n",
    "            if \"-\" in user_input and \",\" in user_input:\n",
    "                response = send_command(user_input)\n",
    "                print(f\"Respuesta de Arduino: {response}\")\n",
    "            else:\n",
    "                print(\"Formato incorrecto. Usa: SET_STEPS 60-10,64-15,68-20\")\n",
    "        elif user_input == \"SEND_DATA\":\n",
    "            response = send_command(\"SEND_DATA\")\n",
    "            print(\"Iniciando transmisión de datos...\")\n",
    "        else:\n",
    "            print(\"Comando no reconocido.\")\n",
    "\n",
    "# Iniciar hilo de entrada del usuario\n",
    "thread = threading.Thread(target=user_input_thread)\n",
    "thread.start()\n",
    "\n",
    "# Generar nombre de archivo con fecha y hora\n",
    "timestamp = datetime.now().strftime('%Y%m%d_%H%M%S')\n",
    "filename = f\"maceracion_datos_{timestamp}.csv\"\n",
    "\n",
    "\n",
    "# Crear archivo CSV con encabezado\n",
    "with open(filename, \"w\") as file:\n",
    "    file.write(\"Tiempo(s),Temperatura(°C),Setpoint(°C),Output(°C),Potencia(W),pH\\n\")\n",
    "\n",
    "    # Leer datos del Arduino en loop\n",
    "    while running:\n",
    "        try:\n",
    "            line = ser.readline().decode('utf-8').strip()\n",
    "            if line:\n",
    "                if line == \"%%END%%\":\n",
    "                    print(\"\\n✅ Transmisión finalizada por Arduino.\")\n",
    "                    print(f\"📁 Archivo '{filename}' generado correctamente.\")\n",
    "                    print(\"⏱️ Todos los intervalos definidos se han completado.\\n\")\n",
    "                    running = False  # Detener la lectura\n",
    "                    break  # Salir del loop inmediatamente\n",
    "\n",
    "                print(\">>\", line)\n",
    "                file.write(line + \"\\n\")\n",
    "        except Exception as e:\n",
    "            print(f\"Error al leer datos: {e}\")\n",
    "\n",
    "ser.close()\n"
   ]
  },
  {
   "cell_type": "code",
   "execution_count": null,
   "id": "ceabcbed-0649-420a-a194-a6f4dbc5d0b4",
   "metadata": {},
   "outputs": [],
   "source": []
  }
 ],
 "metadata": {
  "kernelspec": {
   "display_name": "Python 3 (ipykernel)",
   "language": "python",
   "name": "python3"
  },
  "language_info": {
   "codemirror_mode": {
    "name": "ipython",
    "version": 3
   },
   "file_extension": ".py",
   "mimetype": "text/x-python",
   "name": "python",
   "nbconvert_exporter": "python",
   "pygments_lexer": "ipython3",
   "version": "3.11.7"
  }
 },
 "nbformat": 4,
 "nbformat_minor": 5
}
